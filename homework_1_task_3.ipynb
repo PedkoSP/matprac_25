{
 "cells": [
  {
   "cell_type": "code",
   "execution_count": 7,
   "id": "0b3d3218-bea5-4fb7-a480-174199ea776a",
   "metadata": {},
   "outputs": [],
   "source": [
    "class Test:\n",
    "    @staticmethod\n",
    "    def assert_equals(a, b, *args, **kwargs):\n",
    "        assert a == b\n",
    "        print('Passed')"
   ]
  },
  {
   "cell_type": "markdown",
   "id": "9cb8a371-ed5c-48c5-8100-5d01d58941ce",
   "metadata": {},
   "source": [
    "Problem https://edabit.com/challenge/3A3mHS5B3NNZddQL2 (3 points)"
   ]
  },
  {
   "cell_type": "code",
   "execution_count": 8,
   "id": "67d5c440-fe2c-4632-adbb-3744acff7455",
   "metadata": {},
   "outputs": [],
   "source": [
    "def interview(lst, mnt):\n",
    "    if len(lst) != 8:\n",
    "        return 'disqualified'\n",
    "    lim_vec = [5, 5, 10, 10, 15, 15, 20, 20]\n",
    "    for i in range(8):\n",
    "        if lst[i] > lim_vec[i]:\n",
    "            return 'disqualified'\n",
    "    if mnt > 120:\n",
    "        return 'disqualified'\n",
    "    else:\n",
    "        return 'qualified'"
   ]
  },
  {
   "cell_type": "code",
   "execution_count": 9,
   "id": "e3c9837c-db0a-440c-9b24-176af3fc814d",
   "metadata": {},
   "outputs": [
    {
     "name": "stdout",
     "output_type": "stream",
     "text": [
      "Passed\n",
      "Passed\n",
      "Passed\n",
      "Passed\n",
      "Passed\n",
      "Passed\n",
      "Passed\n",
      "Passed\n",
      "Passed\n",
      "Passed\n"
     ]
    }
   ],
   "source": [
    "Test.assert_equals(interview([5, 5, 10, 10, 15, 15, 20, 20], 120), 'qualified')\n",
    "Test.assert_equals(interview([2, 3, 8, 6, 5, 12, 10, 18], 120), 'qualified')\n",
    "Test.assert_equals(interview([2, 3, 8, 6, 5, 12, 10, 18], 64), 'qualified')\n",
    "Test.assert_equals(interview([5, 5, 10, 10, 25, 15, 20, 20], 120), 'disqualified')\n",
    "Test.assert_equals(interview([5, 5, 10, 10, 15, 15, 20], 120), 'disqualified')\n",
    "Test.assert_equals(interview([5, 5, 10, 10, 15, 15, 20, 20], 130), 'disqualified')\n",
    "Test.assert_equals(interview([5, 5, 10, 10, 15, 20, 50], 160), 'disqualified')\n",
    "Test.assert_equals(interview([5, 5, 10, 10, 15, 15, 40], 120), 'disqualified')\n",
    "Test.assert_equals(interview([10, 10, 15, 15, 20, 20], 150), 'disqualified')\n",
    "Test.assert_equals(interview([5, 5, 10, 20, 15, 15, 20, 20], 140), 'disqualified')"
   ]
  },
  {
   "cell_type": "code",
   "execution_count": null,
   "id": "577978f3-5c78-41da-8342-aef332762f74",
   "metadata": {},
   "outputs": [],
   "source": []
  }
 ],
 "metadata": {
  "kernelspec": {
   "display_name": "Python [conda env:base] *",
   "language": "python",
   "name": "conda-base-py"
  },
  "language_info": {
   "codemirror_mode": {
    "name": "ipython",
    "version": 3
   },
   "file_extension": ".py",
   "mimetype": "text/x-python",
   "name": "python",
   "nbconvert_exporter": "python",
   "pygments_lexer": "ipython3",
   "version": "3.13.5"
  }
 },
 "nbformat": 4,
 "nbformat_minor": 5
}
