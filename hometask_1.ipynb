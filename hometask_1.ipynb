{
 "cells": [
  {
   "cell_type": "code",
   "execution_count": 7,
   "id": "49d29285-1a89-4cad-bc34-6a75354e4778",
   "metadata": {},
   "outputs": [],
   "source": [
    "class Test:\n",
    "    @staticmethod\n",
    "    def assert_equals(a, b, *args, **kwargs):\n",
    "        assert a == b\n",
    "        print('Passed')\n",
    "    def assert_not_equals(a, b, *args, **kwargs):\n",
    "        assert a != b\n",
    "        print('Passed')"
   ]
  },
  {
   "cell_type": "markdown",
   "id": "c1e054e5-04ee-422a-9363-4d1d36f8a578",
   "metadata": {},
   "source": [
    "Problem https://edabit.com/challenge/HYjQKDXFfeppcWmLX (1 point)"
   ]
  },
  {
   "cell_type": "code",
   "execution_count": 4,
   "id": "415841aa-1146-43d7-9f6d-df252a78a84c",
   "metadata": {},
   "outputs": [],
   "source": [
    "def is_curzon(num):\n",
    "    if (1 + 2 ** num) % (1 + 2 * num) == 0:\n",
    "        return True\n",
    "    else:\n",
    "        return False"
   ]
  },
  {
   "cell_type": "code",
   "execution_count": 5,
   "id": "2497ece5-ed10-415f-a3d7-0cd5ab0e4da8",
   "metadata": {},
   "outputs": [
    {
     "name": "stdout",
     "output_type": "stream",
     "text": [
      "Passed\n",
      "Passed\n",
      "Passed\n",
      "Passed\n",
      "Passed\n",
      "Passed\n",
      "Passed\n",
      "Passed\n",
      "Passed\n"
     ]
    }
   ],
   "source": [
    "Test.assert_equals(is_curzon(5), True)\n",
    "Test.assert_equals(is_curzon(10), False)\n",
    "Test.assert_equals(is_curzon(14), True)\n",
    "Test.assert_equals(is_curzon(86), True)\n",
    "Test.assert_equals(is_curzon(90), True)\n",
    "Test.assert_equals(is_curzon(115), False)\n",
    "Test.assert_equals(is_curzon(120), False)\n",
    "Test.assert_equals(is_curzon(194), True)\n",
    "Test.assert_equals(is_curzon(293), True)"
   ]
  },
  {
   "cell_type": "markdown",
   "id": "376da862-e5c6-4b4f-937e-999402e6e821",
   "metadata": {},
   "source": [
    "Problem https://edabit.com/challenge/noqQNSr5o9qzvXWzL (2 points)"
   ]
  },
  {
   "cell_type": "code",
   "execution_count": 6,
   "id": "7346b184-630f-4602-9d29-b01b75a3ffa9",
   "metadata": {},
   "outputs": [],
   "source": [
    "def shift_to_right(x, y):\n",
    "    return x // (2 ** y)"
   ]
  },
  {
   "cell_type": "code",
   "execution_count": 8,
   "id": "79a48408-8a47-471c-9e5e-a1df711fe01d",
   "metadata": {},
   "outputs": [
    {
     "name": "stdout",
     "output_type": "stream",
     "text": [
      "Passed\n",
      "Passed\n",
      "Passed\n",
      "Passed\n",
      "Passed\n",
      "Passed\n",
      "Passed\n",
      "Passed\n",
      "Passed\n",
      "Passed\n"
     ]
    }
   ],
   "source": [
    "from inspect import getsource\n",
    "from re import findall, MULTILINE\n",
    "\n",
    "def check_op(fn):\n",
    "  try: return not len(findall(r'>>', getsource(fn), flags=MULTILINE))\n",
    "  except OSError: return True\n",
    "\n",
    "Test.assert_not_equals(check_op(shift_to_right), False,\n",
    "                       'The use of right shift operator (>>) is prohibited!')\n",
    "\n",
    "num_vector = [[80, 3], [-24, 2], [-5, 1], [38, 0], [192, 4], [4666, 6], [3777, 6], [1024, 5], [-512, 10]]\n",
    "res_vector = [10, -6, -3, 38, 12, 72, 59, 32, -1]\n",
    "for i, (x, y) in enumerate(num_vector): Test.assert_equals(shift_to_right(x, y), res_vector[i])"
   ]
  },
  {
   "cell_type": "markdown",
   "id": "ea67dc0f-f9cd-45dd-bc58-0402c810ffc7",
   "metadata": {},
   "source": [
    "Problem https://edabit.com/challenge/3A3mHS5B3NNZddQL2 (3 points)"
   ]
  },
  {
   "cell_type": "code",
   "execution_count": 15,
   "id": "34e28b59-239d-463f-888b-43bd150d3821",
   "metadata": {},
   "outputs": [],
   "source": [
    "def interview(lst, mnt):\n",
    "    if len(lst) != 8:\n",
    "        return 'disqualified'\n",
    "    lim_vec = [5, 5, 10, 10, 15, 15, 20, 20]\n",
    "    for i in range(8):\n",
    "        if lst[i] > lim_vec[i]:\n",
    "            return 'disqualified'\n",
    "    if mnt > 120:\n",
    "        return 'disqualified'\n",
    "    else:\n",
    "        return 'qualified'"
   ]
  },
  {
   "cell_type": "code",
   "execution_count": 16,
   "id": "f192d23a-fa1f-4ad0-9de2-55adbd8b74fa",
   "metadata": {},
   "outputs": [
    {
     "name": "stdout",
     "output_type": "stream",
     "text": [
      "Passed\n",
      "Passed\n",
      "Passed\n",
      "Passed\n",
      "Passed\n",
      "Passed\n",
      "Passed\n",
      "Passed\n",
      "Passed\n",
      "Passed\n"
     ]
    }
   ],
   "source": [
    "Test.assert_equals(interview([5, 5, 10, 10, 15, 15, 20, 20], 120), 'qualified')\n",
    "Test.assert_equals(interview([2, 3, 8, 6, 5, 12, 10, 18], 120), 'qualified')\n",
    "Test.assert_equals(interview([2, 3, 8, 6, 5, 12, 10, 18], 64), 'qualified')\n",
    "Test.assert_equals(interview([5, 5, 10, 10, 25, 15, 20, 20], 120), 'disqualified')\n",
    "Test.assert_equals(interview([5, 5, 10, 10, 15, 15, 20], 120), 'disqualified')\n",
    "Test.assert_equals(interview([5, 5, 10, 10, 15, 15, 20, 20], 130), 'disqualified')\n",
    "Test.assert_equals(interview([5, 5, 10, 10, 15, 20, 50], 160), 'disqualified')\n",
    "Test.assert_equals(interview([5, 5, 10, 10, 15, 15, 40], 120), 'disqualified')\n",
    "Test.assert_equals(interview([10, 10, 15, 15, 20, 20], 150), 'disqualified')\n",
    "Test.assert_equals(interview([5, 5, 10, 20, 15, 15, 20, 20], 140), 'disqualified')"
   ]
  },
  {
   "cell_type": "markdown",
   "id": "0b56f690-ee2b-42a0-a864-e7ab90e884f6",
   "metadata": {},
   "source": [
    "Problem https://edabit.com/challenge/QN4RMpAnktNvMCWwg (4 points)"
   ]
  },
  {
   "cell_type": "code",
   "execution_count": 31,
   "id": "8892d704-d4df-45e1-822e-ef0d5bf78a9f",
   "metadata": {},
   "outputs": [],
   "source": [
    "def id_mtrx(n):\n",
    "    if type(n) != int:\n",
    "        return 'Error'\n",
    "    res = []\n",
    "    if n > 0:\n",
    "        sgn = 1\n",
    "    else:\n",
    "        sgn = -1\n",
    "        n = -n\n",
    "    str = [0 for i in range(n -1)]\n",
    "    for i in range(n):\n",
    "        ivec = list(str)\n",
    "        if sgn == 1:\n",
    "            ivec.insert(i, 1)\n",
    "        else:\n",
    "            ivec.insert(n - i - 1, 1)\n",
    "        res.append(ivec)\n",
    "    return res"
   ]
  },
  {
   "cell_type": "code",
   "execution_count": 32,
   "id": "36a873fc-851a-4ba9-8ac4-c00ab6d7d563",
   "metadata": {},
   "outputs": [
    {
     "name": "stdout",
     "output_type": "stream",
     "text": [
      "Passed\n",
      "Passed\n",
      "Passed\n",
      "Passed\n",
      "Passed\n",
      "Passed\n"
     ]
    }
   ],
   "source": [
    "Test.assert_equals(id_mtrx(1), [[1]])\n",
    "Test.assert_equals(id_mtrx(2), [[1, 0], [0, 1]])\n",
    "Test.assert_equals(id_mtrx(3), [[1, 0, 0], [0, 1, 0], [0, 0, 1]])\n",
    "Test.assert_equals(id_mtrx(4), [[1, 0, 0, 0], [0, 1, 0, 0], [0, 0, 1, 0], [0, 0, 0, 1]])\n",
    "Test.assert_equals(id_mtrx(-6), [[0, 0, 0, 0, 0, 1], [0, 0, 0, 0, 1, 0], [0, 0, 0, 1, 0, 0], [0, 0, 1, 0, 0, 0], [0, 1, 0, 0, 0, 0], [1, 0, 0, 0, 0, 0]])\n",
    "Test.assert_equals(id_mtrx(\"edabit\"), \"Error\", 'Incompatible types passed as n should return the string \"Error\".')"
   ]
  },
  {
   "cell_type": "markdown",
   "id": "1465c229-05c2-4a42-b4bc-0cb5f122740e",
   "metadata": {},
   "source": [
    "Problem https://edabit.com/challenge/oFqkxLiqeSGL8xmBn (5 points)"
   ]
  },
  {
   "cell_type": "code",
   "execution_count": 61,
   "id": "a7dea666-fd1c-4d13-90dd-32d0101ffa55",
   "metadata": {},
   "outputs": [],
   "source": [
    "from time import perf_counter\n",
    "from random import randint\n",
    "\n",
    "class ListNode:\n",
    "    def __init__(self, val=0, next=None):\n",
    "        self.val = val\n",
    "        self.next = next\n",
    "\n",
    "    def add_data(self, lst):\n",
    "        current = self\n",
    "        while lst:\n",
    "            current.next = ListNode(lst[0])\n",
    "            current = current.next\n",
    "            lst = lst[1:]\n",
    "\n",
    "    def get_data(self):\n",
    "        res = []\n",
    "        current = self\n",
    "        while current:\n",
    "            res.append(current.val)\n",
    "            current = current.next\n",
    "        return res\n",
    "\n",
    "def add_two_numbers(x, y):\n",
    "    lx = x.get_data()\n",
    "    ly = y.get_data()\n",
    "\n",
    "    lres = []\n",
    "    i = 0\n",
    "    add = 0\n",
    "    \n",
    "    while True:\n",
    "        if (i >= len(lx)) & (i >= len(ly)):\n",
    "            if add == 1:\n",
    "                lres.append(1)\n",
    "            res = ListNode(lres[0])\n",
    "            res.add_data(lres[1:])\n",
    "            return res\n",
    "        if (i >= len(lx)) & (i < len(ly)):\n",
    "            r = (ly[i] + add) % 10\n",
    "            if ly[i] + add > 9:\n",
    "                add = 1\n",
    "            else:\n",
    "                add = 0\n",
    "            lres.append(r)\n",
    "        if (i < len(lx)) & (i >= len(ly)):\n",
    "            r = (lx[i] + add) % 10\n",
    "            if lx[i] + add > 9:\n",
    "                add = 1\n",
    "            else:\n",
    "                add = 0\n",
    "            lres.append(r)\n",
    "        if (i < len(lx)) & (i < len(ly)):\n",
    "            r = (lx[i] + ly[i] + add) % 10\n",
    "            if lx[i] + ly[i] + add > 9:\n",
    "                add = 1\n",
    "            else:\n",
    "                add = 0\n",
    "            lres.append(r)\n",
    "        i += 1"
   ]
  },
  {
   "cell_type": "code",
   "execution_count": 63,
   "id": "22d96065-c4fa-426d-8e51-56ca2f06bb96",
   "metadata": {},
   "outputs": [
    {
     "name": "stdout",
     "output_type": "stream",
     "text": [
      "Passed\n",
      "Passed\n",
      "Passed\n",
      "Passed\n",
      "Passed\n",
      "Passed\n",
      "Passed\n",
      "Passed\n",
      "Passed\n",
      "Passed\n",
      "Passed\n",
      "Passed\n",
      "Passed\n",
      "Passed\n",
      "Passed\n",
      "Passed\n",
      "Passed\n",
      "Passed\n",
      "Passed\n",
      "Passed\n",
      "Passed\n",
      "Passed\n",
      "Passed\n",
      "Passed\n",
      "Passed\n",
      "Passed\n",
      "Passed\n",
      "Passed\n",
      "Passed\n",
      "Passed\n",
      "Passed\n",
      "Passed\n",
      "Passed\n",
      "Passed\n",
      "Passed\n",
      "Passed\n",
      "Passed\n",
      "Passed\n",
      "Passed\n",
      "Passed\n",
      "Passed\n",
      "Passed\n",
      "Passed\n",
      "Passed\n",
      "Passed\n",
      "Passed\n",
      "Passed\n",
      "Passed\n",
      "Passed\n",
      "Passed\n",
      "Passed\n",
      "Passed\n",
      "Passed\n",
      "Passed\n",
      "Passed\n",
      "Passed\n",
      "Passed\n",
      "Passed\n",
      "Passed\n",
      "Passed\n",
      "Passed\n",
      "Passed\n",
      "Passed\n",
      "Passed\n",
      "Passed\n",
      "Passed\n",
      "Passed\n",
      "Passed\n",
      "Passed\n",
      "Passed\n",
      "Passed\n",
      "Passed\n",
      "Passed\n",
      "Passed\n",
      "Passed\n",
      "Passed\n",
      "Passed\n",
      "Passed\n",
      "Passed\n",
      "Passed\n",
      "Passed\n",
      "Passed\n",
      "Passed\n",
      "Passed\n",
      "Passed\n",
      "Passed\n",
      "Passed\n",
      "Passed\n",
      "Passed\n",
      "Passed\n",
      "Passed\n",
      "Passed\n",
      "Passed\n",
      "Passed\n",
      "Passed\n",
      "Passed\n",
      "Passed\n",
      "Passed\n",
      "Passed\n",
      "Passed\n",
      "Passed\n",
      "Passed\n",
      "Passed\n",
      "t_sec = 0.006663\n"
     ]
    }
   ],
   "source": [
    "tic = perf_counter()\n",
    "\n",
    "lt1 = ListNode(2)\n",
    "lt1.add_data([4, 3])\n",
    "lt2 = ListNode(5)\n",
    "lt2.add_data([6, 4])\n",
    "Test.assert_equals(add_two_numbers(lt1, lt2).get_data(), [7, 0, 8])\n",
    "\n",
    "lt1 = ListNode(0)\n",
    "lt2 = ListNode(0)\n",
    "Test.assert_equals(add_two_numbers(lt1, lt2).get_data(), [0])\n",
    "\n",
    "lt1 = ListNode(9)\n",
    "lt1.add_data([9,9,9,9,9,9])\n",
    "lt2 = ListNode(9)\n",
    "lt2.add_data([9,9,9])\n",
    "Test.assert_equals(add_two_numbers(lt1, lt2).get_data(), [8, 9, 9, 9, 0, 0, 0, 1])\n",
    "\n",
    "n_max = pow(10, 20)\n",
    "for _ in range(100):\n",
    "    n1 = randint(0, n_max)\n",
    "    n2 = randint(0, n_max)\n",
    "    expected = list(map(int, list(str(n1 + n2))))[::-1]\n",
    "    lst1 = list(map(int, list(str(n1))))[::-1]\n",
    "    lst2 = list(map(int, list(str(n2))))[::-1]\n",
    "    ll1 = ListNode(lst1[0])\n",
    "    ll1.add_data(lst1[1:])\n",
    "    ll2 = ListNode(lst2[0])\n",
    "    ll2.add_data(lst2[1:])\n",
    "    Test.assert_equals(add_two_numbers(ll1, ll2).get_data(), expected)\n",
    "\n",
    "print('t_sec = {:.6f}'.format(perf_counter() - tic))"
   ]
  },
  {
   "cell_type": "code",
   "execution_count": null,
   "id": "5c3e37ee-1ebf-486f-9f95-21a027ce537a",
   "metadata": {},
   "outputs": [],
   "source": []
  }
 ],
 "metadata": {
  "kernelspec": {
   "display_name": "Python [conda env:base] *",
   "language": "python",
   "name": "conda-base-py"
  },
  "language_info": {
   "codemirror_mode": {
    "name": "ipython",
    "version": 3
   },
   "file_extension": ".py",
   "mimetype": "text/x-python",
   "name": "python",
   "nbconvert_exporter": "python",
   "pygments_lexer": "ipython3",
   "version": "3.13.5"
  }
 },
 "nbformat": 4,
 "nbformat_minor": 5
}
