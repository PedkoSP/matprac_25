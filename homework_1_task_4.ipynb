{
 "cells": [
  {
   "cell_type": "code",
   "execution_count": 10,
   "id": "0b3d3218-bea5-4fb7-a480-174199ea776a",
   "metadata": {},
   "outputs": [],
   "source": [
    "class Test:\n",
    "    @staticmethod\n",
    "    def assert_equals(a, b, *args, **kwargs):\n",
    "        assert a == b\n",
    "        print('Passed')"
   ]
  },
  {
   "cell_type": "markdown",
   "id": "9cb8a371-ed5c-48c5-8100-5d01d58941ce",
   "metadata": {},
   "source": [
    "Problem https://edabit.com/challenge/QN4RMpAnktNvMCWwg (4 points)"
   ]
  },
  {
   "cell_type": "code",
   "execution_count": 11,
   "id": "67d5c440-fe2c-4632-adbb-3744acff7455",
   "metadata": {},
   "outputs": [],
   "source": [
    "def id_mtrx(n):\n",
    "    if type(n) != int:\n",
    "        return 'Error'\n",
    "    res = []\n",
    "    if n > 0:\n",
    "        sgn = 1\n",
    "    else:\n",
    "        sgn = -1\n",
    "        n = -n\n",
    "    str = [0 for i in range(n -1)]\n",
    "    for i in range(n):\n",
    "        ivec = list(str)\n",
    "        if sgn == 1:\n",
    "            ivec.insert(i, 1)\n",
    "        else:\n",
    "            ivec.insert(n - i - 1, 1)\n",
    "        res.append(ivec)\n",
    "    return res"
   ]
  },
  {
   "cell_type": "code",
   "execution_count": 12,
   "id": "e3c9837c-db0a-440c-9b24-176af3fc814d",
   "metadata": {},
   "outputs": [
    {
     "name": "stdout",
     "output_type": "stream",
     "text": [
      "Passed\n",
      "Passed\n",
      "Passed\n",
      "Passed\n",
      "Passed\n",
      "Passed\n"
     ]
    }
   ],
   "source": [
    "Test.assert_equals(id_mtrx(1), [[1]])\n",
    "Test.assert_equals(id_mtrx(2), [[1, 0], [0, 1]])\n",
    "Test.assert_equals(id_mtrx(3), [[1, 0, 0], [0, 1, 0], [0, 0, 1]])\n",
    "Test.assert_equals(id_mtrx(4), [[1, 0, 0, 0], [0, 1, 0, 0], [0, 0, 1, 0], [0, 0, 0, 1]])\n",
    "Test.assert_equals(id_mtrx(-6), [[0, 0, 0, 0, 0, 1], [0, 0, 0, 0, 1, 0], [0, 0, 0, 1, 0, 0], [0, 0, 1, 0, 0, 0], [0, 1, 0, 0, 0, 0], [1, 0, 0, 0, 0, 0]])\n",
    "Test.assert_equals(id_mtrx(\"edabit\"), \"Error\", 'Incompatible types passed as n should return the string \"Error\".')"
   ]
  },
  {
   "cell_type": "code",
   "execution_count": null,
   "id": "577978f3-5c78-41da-8342-aef332762f74",
   "metadata": {},
   "outputs": [],
   "source": []
  }
 ],
 "metadata": {
  "kernelspec": {
   "display_name": "Python [conda env:base] *",
   "language": "python",
   "name": "conda-base-py"
  },
  "language_info": {
   "codemirror_mode": {
    "name": "ipython",
    "version": 3
   },
   "file_extension": ".py",
   "mimetype": "text/x-python",
   "name": "python",
   "nbconvert_exporter": "python",
   "pygments_lexer": "ipython3",
   "version": "3.13.5"
  }
 },
 "nbformat": 4,
 "nbformat_minor": 5
}
