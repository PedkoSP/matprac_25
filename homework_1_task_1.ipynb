{
 "cells": [
  {
   "cell_type": "code",
   "execution_count": 1,
   "id": "0b3d3218-bea5-4fb7-a480-174199ea776a",
   "metadata": {},
   "outputs": [],
   "source": [
    "class Test:\n",
    "    @staticmethod\n",
    "    def assert_equals(a, b, *args, **kwargs):\n",
    "        assert a == b\n",
    "        print('Passed')"
   ]
  },
  {
   "cell_type": "markdown",
   "id": "9cb8a371-ed5c-48c5-8100-5d01d58941ce",
   "metadata": {},
   "source": [
    "Problem https://edabit.com/challenge/HYjQKDXFfeppcWmLX (1 point)"
   ]
  },
  {
   "cell_type": "code",
   "execution_count": 2,
   "id": "67d5c440-fe2c-4632-adbb-3744acff7455",
   "metadata": {},
   "outputs": [],
   "source": [
    "def is_curzon(num):\n",
    "    if (1 + 2 ** num) % (1 + 2 * num) == 0:\n",
    "        return True\n",
    "    else:\n",
    "        return False"
   ]
  },
  {
   "cell_type": "code",
   "execution_count": 3,
   "id": "e3c9837c-db0a-440c-9b24-176af3fc814d",
   "metadata": {},
   "outputs": [
    {
     "name": "stdout",
     "output_type": "stream",
     "text": [
      "Passed\n",
      "Passed\n",
      "Passed\n",
      "Passed\n",
      "Passed\n",
      "Passed\n",
      "Passed\n",
      "Passed\n",
      "Passed\n"
     ]
    }
   ],
   "source": [
    "Test.assert_equals(is_curzon(5), True)\n",
    "Test.assert_equals(is_curzon(10), False)\n",
    "Test.assert_equals(is_curzon(14), True)\n",
    "Test.assert_equals(is_curzon(86), True)\n",
    "Test.assert_equals(is_curzon(90), True)\n",
    "Test.assert_equals(is_curzon(115), False)\n",
    "Test.assert_equals(is_curzon(120), False)\n",
    "Test.assert_equals(is_curzon(194), True)\n",
    "Test.assert_equals(is_curzon(293), True)"
   ]
  },
  {
   "cell_type": "code",
   "execution_count": null,
   "id": "577978f3-5c78-41da-8342-aef332762f74",
   "metadata": {},
   "outputs": [],
   "source": []
  }
 ],
 "metadata": {
  "kernelspec": {
   "display_name": "Python [conda env:base] *",
   "language": "python",
   "name": "conda-base-py"
  },
  "language_info": {
   "codemirror_mode": {
    "name": "ipython",
    "version": 3
   },
   "file_extension": ".py",
   "mimetype": "text/x-python",
   "name": "python",
   "nbconvert_exporter": "python",
   "pygments_lexer": "ipython3",
   "version": "3.13.5"
  }
 },
 "nbformat": 4,
 "nbformat_minor": 5
}
