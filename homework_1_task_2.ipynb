{
 "cells": [
  {
   "cell_type": "code",
   "execution_count": 4,
   "id": "0b3d3218-bea5-4fb7-a480-174199ea776a",
   "metadata": {},
   "outputs": [],
   "source": [
    "class Test:\n",
    "    @staticmethod\n",
    "    def assert_equals(a, b, *args, **kwargs):\n",
    "        assert a == b\n",
    "        print('Passed')\n",
    "    def assert_not_equals(a, b, *args, **kwargs):\n",
    "        assert a != b\n",
    "        print('Passed')"
   ]
  },
  {
   "cell_type": "markdown",
   "id": "9cb8a371-ed5c-48c5-8100-5d01d58941ce",
   "metadata": {},
   "source": [
    "Problem https://edabit.com/challenge/noqQNSr5o9qzvXWzL (2 points)"
   ]
  },
  {
   "cell_type": "code",
   "execution_count": 5,
   "id": "67d5c440-fe2c-4632-adbb-3744acff7455",
   "metadata": {},
   "outputs": [],
   "source": [
    "def shift_to_right(x, y):\n",
    "    return x // (2 ** y)"
   ]
  },
  {
   "cell_type": "code",
   "execution_count": 6,
   "id": "e3c9837c-db0a-440c-9b24-176af3fc814d",
   "metadata": {},
   "outputs": [
    {
     "name": "stdout",
     "output_type": "stream",
     "text": [
      "Passed\n",
      "Passed\n",
      "Passed\n",
      "Passed\n",
      "Passed\n",
      "Passed\n",
      "Passed\n",
      "Passed\n",
      "Passed\n",
      "Passed\n"
     ]
    }
   ],
   "source": [
    "from inspect import getsource\n",
    "from re import findall, MULTILINE\n",
    "\n",
    "def check_op(fn):\n",
    "  try: return not len(findall(r'>>', getsource(fn), flags=MULTILINE))\n",
    "  except OSError: return True\n",
    "\n",
    "Test.assert_not_equals(check_op(shift_to_right), False,\n",
    "                       'The use of right shift operator (>>) is prohibited!')\n",
    "\n",
    "num_vector = [[80, 3], [-24, 2], [-5, 1], [38, 0], [192, 4], [4666, 6], [3777, 6], [1024, 5], [-512, 10]]\n",
    "res_vector = [10, -6, -3, 38, 12, 72, 59, 32, -1]\n",
    "for i, (x, y) in enumerate(num_vector): Test.assert_equals(shift_to_right(x, y), res_vector[i])"
   ]
  },
  {
   "cell_type": "code",
   "execution_count": null,
   "id": "577978f3-5c78-41da-8342-aef332762f74",
   "metadata": {},
   "outputs": [],
   "source": []
  }
 ],
 "metadata": {
  "kernelspec": {
   "display_name": "Python [conda env:base] *",
   "language": "python",
   "name": "conda-base-py"
  },
  "language_info": {
   "codemirror_mode": {
    "name": "ipython",
    "version": 3
   },
   "file_extension": ".py",
   "mimetype": "text/x-python",
   "name": "python",
   "nbconvert_exporter": "python",
   "pygments_lexer": "ipython3",
   "version": "3.13.5"
  }
 },
 "nbformat": 4,
 "nbformat_minor": 5
}
