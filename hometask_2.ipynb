{
 "cells": [
  {
   "cell_type": "code",
   "execution_count": 1,
   "id": "53a2bfcb-3ede-4719-b297-a30380857e79",
   "metadata": {},
   "outputs": [],
   "source": [
    "import numpy as np"
   ]
  },
  {
   "cell_type": "markdown",
   "id": "4878ca99-53a5-43b0-b0d2-896b20485944",
   "metadata": {},
   "source": [
    "1. Создайте массив 10х10, заполненный в центре нулями, а по границе единицами."
   ]
  },
  {
   "cell_type": "code",
   "execution_count": 7,
   "id": "4af42683-4441-480c-b1ce-3fde7f6be556",
   "metadata": {},
   "outputs": [
    {
     "data": {
      "text/plain": [
       "array([[1., 1., 1., 1., 1., 1., 1., 1., 1., 1.],\n",
       "       [1., 0., 0., 0., 0., 0., 0., 0., 0., 1.],\n",
       "       [1., 0., 0., 0., 0., 0., 0., 0., 0., 1.],\n",
       "       [1., 0., 0., 0., 0., 0., 0., 0., 0., 1.],\n",
       "       [1., 0., 0., 0., 0., 0., 0., 0., 0., 1.],\n",
       "       [1., 0., 0., 0., 0., 0., 0., 0., 0., 1.],\n",
       "       [1., 0., 0., 0., 0., 0., 0., 0., 0., 1.],\n",
       "       [1., 0., 0., 0., 0., 0., 0., 0., 0., 1.],\n",
       "       [1., 0., 0., 0., 0., 0., 0., 0., 0., 1.],\n",
       "       [1., 1., 1., 1., 1., 1., 1., 1., 1., 1.]])"
      ]
     },
     "execution_count": 7,
     "metadata": {},
     "output_type": "execute_result"
    }
   ],
   "source": [
    "a = np.zeros((8, 8))\n",
    "np.pad(a, 1, constant_values = 1)"
   ]
  },
  {
   "cell_type": "markdown",
   "id": "2b562d2d-33eb-48e8-915e-2138c5ae489e",
   "metadata": {},
   "source": [
    "2. Создайте массив 8х8, заполненный 0 и 1 в шахматном порядке."
   ]
  },
  {
   "cell_type": "code",
   "execution_count": 36,
   "id": "2359ca7c-aeec-4cbd-8aa0-410bd6cd5e65",
   "metadata": {},
   "outputs": [
    {
     "data": {
      "text/plain": [
       "array([[1., 0., 1., 0., 1., 0., 1., 0.],\n",
       "       [0., 1., 0., 1., 0., 1., 0., 1.],\n",
       "       [1., 0., 1., 0., 1., 0., 1., 0.],\n",
       "       [0., 1., 0., 1., 0., 1., 0., 1.],\n",
       "       [1., 0., 1., 0., 1., 0., 1., 0.],\n",
       "       [0., 1., 0., 1., 0., 1., 0., 1.],\n",
       "       [1., 0., 1., 0., 1., 0., 1., 0.],\n",
       "       [0., 1., 0., 1., 0., 1., 0., 1.]])"
      ]
     },
     "execution_count": 36,
     "metadata": {},
     "output_type": "execute_result"
    }
   ],
   "source": [
    "np.fromfunction(lambda x, y: (x + y + 1) % 2, (8, 8))"
   ]
  },
  {
   "cell_type": "markdown",
   "id": "72b5afdd-6f30-47cc-9863-5f297e4bd886",
   "metadata": {},
   "source": [
    "3. Создайте матрицу 5x5 со значениями 1,2,3,4 под главной диагональю. Остальные значения - нули."
   ]
  },
  {
   "cell_type": "code",
   "execution_count": 99,
   "id": "1bb7a797-9a1d-4693-ba92-5280c8fcf22c",
   "metadata": {},
   "outputs": [
    {
     "data": {
      "text/plain": [
       "array([[0, 0, 0, 0, 0],\n",
       "       [1, 0, 0, 0, 0],\n",
       "       [0, 2, 0, 0, 0],\n",
       "       [0, 0, 3, 0, 0],\n",
       "       [0, 0, 0, 4, 0]])"
      ]
     },
     "execution_count": 99,
     "metadata": {},
     "output_type": "execute_result"
    }
   ],
   "source": [
    "np.diag([1, 2, 3, 4], -1)"
   ]
  },
  {
   "cell_type": "markdown",
   "id": "4e4a51e6-6e8c-42f4-8786-ce17adc201d3",
   "metadata": {},
   "source": [
    "4. Создайте случайный массив 5х5 и нормируйте его так, чтобы среднее вдоль каждой строки было равно нулю."
   ]
  },
  {
   "cell_type": "code",
   "execution_count": 78,
   "id": "826a5d56-b46e-4bf6-8020-052b08875de2",
   "metadata": {},
   "outputs": [
    {
     "data": {
      "text/plain": [
       "array([[-0.16502618,  0.03036709, -0.04977935, -0.02400938,  0.20844782],\n",
       "       [ 0.46903347, -0.21629752, -0.34060356, -0.4471884 ,  0.53505601],\n",
       "       [-0.3795065 ,  0.32003358,  0.02619773,  0.2753919 , -0.24211671],\n",
       "       [-0.05803554,  0.1283059 ,  0.33060084, -0.06266519, -0.33820601],\n",
       "       [ 0.39159897, -0.09234081, -0.13547468, -0.36953731,  0.20575383]])"
      ]
     },
     "execution_count": 78,
     "metadata": {},
     "output_type": "execute_result"
    }
   ],
   "source": [
    "a = np.random.random((5, 5))\n",
    "a - np.transpose(np.mean(a, 1) + np.zeros((5, 5)))"
   ]
  },
  {
   "cell_type": "markdown",
   "id": "b098f019-9855-4835-b4db-06fc208622de",
   "metadata": {},
   "source": [
    "5. Создайте двумерный массив 10x3, заполненный случайными числами от 0 до 1. В каждой строке выберите значение, наиболее близкое к 0.5."
   ]
  },
  {
   "cell_type": "code",
   "execution_count": 175,
   "id": "f7b4c056-7295-45d2-8d4b-d0ab1f09fe4a",
   "metadata": {},
   "outputs": [
    {
     "data": {
      "text/plain": [
       "array([0.5053714 , 0.43381311, 0.34028335, 0.47744654, 0.76351075,\n",
       "       0.62630992, 0.27867449, 0.33458496, 0.33647866, 0.60911841])"
      ]
     },
     "execution_count": 175,
     "metadata": {},
     "output_type": "execute_result"
    }
   ],
   "source": [
    "a = np.random.random((10, 3))\n",
    "a[np.arange(10), np.abs(a - 0.5).argmin(1)]"
   ]
  },
  {
   "cell_type": "markdown",
   "id": "785c5320-e0c2-44f7-8464-1cb24a88a3f3",
   "metadata": {},
   "source": [
    "6. Создайте двумерный массив 6x6, заполненный случайными значениями. Сумму по каждой строке поделите на максимальный элемент из столбца с тем же индексом."
   ]
  },
  {
   "cell_type": "code",
   "execution_count": 109,
   "id": "1e9e43a3-ade4-4bd7-8c23-569b21104c16",
   "metadata": {},
   "outputs": [
    {
     "data": {
      "text/plain": [
       "array([7.76133332, 3.09083515, 3.4467215 , 3.77534101, 4.29143633,\n",
       "       4.18042848])"
      ]
     },
     "execution_count": 109,
     "metadata": {},
     "output_type": "execute_result"
    }
   ],
   "source": [
    "a = np.random.random((6, 6))\n",
    "np.sum(a, 1) / np.max(a, 0)"
   ]
  },
  {
   "cell_type": "markdown",
   "id": "47d245f4-2b87-4d10-b1ae-7d47baa740a6",
   "metadata": {},
   "source": [
    "7. На примере массива x = np.array([6, 2, 0, 3, 0, 0, 5, 7, 0]) найдите максимальный элемент в массиве среди элементов, перед которыми стоит ноль."
   ]
  },
  {
   "cell_type": "code",
   "execution_count": 127,
   "id": "755ae8df-e5de-4110-97e1-2ac156ff3f82",
   "metadata": {},
   "outputs": [
    {
     "data": {
      "text/plain": [
       "np.int64(5)"
      ]
     },
     "execution_count": 127,
     "metadata": {},
     "output_type": "execute_result"
    }
   ],
   "source": [
    "x = np.array([6, 2, 0, 3, 0, 0, 5, 7, 0])\n",
    "np.max(x[np.delete(np.argwhere(x == 0) + 1, np.where(np.argwhere(x == 0) + 1 == 9))])"
   ]
  },
  {
   "cell_type": "markdown",
   "id": "9ac18480-25d8-4d46-8592-6e5ca8a70df1",
   "metadata": {},
   "source": [
    "8. Пусть заданы два массива x = np.ones(10) и i = np.array([0, 1, 2, 3, 5, 5, 5, 8]). Прибавьте единицу к тем элементам массива x, индексы которых указаны в массиве i. В случае, если некоторый индекс встретился в массиве i несколько раз, прибавьте к соответствующему элементу массива x число вхождений данного индекса в массив i."
   ]
  },
  {
   "cell_type": "code",
   "execution_count": 145,
   "id": "334eed2c-fd6f-40c8-b39f-7eadc137deab",
   "metadata": {},
   "outputs": [
    {
     "data": {
      "text/plain": [
       "array([2., 2., 2., 2., 1., 4., 1., 1., 2., 1.])"
      ]
     },
     "execution_count": 145,
     "metadata": {},
     "output_type": "execute_result"
    }
   ],
   "source": [
    "x = np.ones(10)\n",
    "i = np.array([0, 1, 2, 3, 5, 5, 5, 8])\n",
    "x + np.array([np.size(i[i == j]) for j in range(10)])"
   ]
  },
  {
   "cell_type": "markdown",
   "id": "b0633754-1a34-437a-b14a-d769b16acd1a",
   "metadata": {},
   "source": [
    "9. Задайте два массива a = np.array([[1, 4.9, 2.4], [7.1, 7, 9.8], [2, 4.6, 1.2]]) и b = np.array([3, 5, 10, 0]). Создайте массив, в котором каждый элемент первого массива заменен на ближайший к нему элемент второго массива."
   ]
  },
  {
   "cell_type": "code",
   "execution_count": 158,
   "id": "12263e7b-b348-4aaf-8a1d-e25b3adcae88",
   "metadata": {},
   "outputs": [
    {
     "data": {
      "text/plain": [
       "array([[ 0,  5,  3],\n",
       "       [ 5,  5, 10],\n",
       "       [ 3,  5,  0]])"
      ]
     },
     "execution_count": 158,
     "metadata": {},
     "output_type": "execute_result"
    }
   ],
   "source": [
    "a = np.array([[1, 4.9, 2.4], [7.1, 7, 9.8], [2, 4.6, 1.2]])\n",
    "b = np.array([3, 5, 10, 0])\n",
    "np.array([b[np.argmin(np.abs(b - a.reshape(9)[i]))] for i in range(9)]).reshape(3, 3)"
   ]
  },
  {
   "cell_type": "markdown",
   "id": "17dfaa95-352e-4b8b-8aa8-f660185230a8",
   "metadata": {},
   "source": [
    "10. Найдите скользящие средние с окном размера 3 по массиву a = np.array([1, 4.9, 2.4, 7.1, 7, 9.8, 2, -5, 4.6, 1.2])."
   ]
  },
  {
   "cell_type": "code",
   "execution_count": 164,
   "id": "c32b8a2c-a510-4c1e-8dd6-d6583534fb39",
   "metadata": {},
   "outputs": [
    {
     "data": {
      "text/plain": [
       "array([2.76666667, 4.8       , 5.5       , 7.96666667, 6.26666667,\n",
       "       2.26666667, 0.53333333, 0.26666667])"
      ]
     },
     "execution_count": 164,
     "metadata": {},
     "output_type": "execute_result"
    }
   ],
   "source": [
    "a = np.array([1, 4.9, 2.4, 7.1, 7, 9.8, 2, -5, 4.6, 1.2])\n",
    "np.convolve(a, np.ones(3) / 3, mode = 'valid')"
   ]
  },
  {
   "cell_type": "markdown",
   "id": "56578f7e-e803-4746-8bc7-cf98aa8aebba",
   "metadata": {},
   "source": [
    "Задача со звездочкой.\n",
    "\n",
    "Создайте произвольный двумерный массив NxM, N, M > 1. На его основе создайте новый двумерный массив, значения в котором являются средним значением исходного во всевозможных окошках размера 2х2 со сдвигом 1 по вертикали и горизонтали."
   ]
  },
  {
   "cell_type": "code",
   "execution_count": 171,
   "id": "6a8a68fb-741f-4ab6-a0eb-154958f4ec0d",
   "metadata": {},
   "outputs": [
    {
     "name": "stdout",
     "output_type": "stream",
     "text": [
      "Input:\n",
      " [[ 0  1  2  3  4  5  6  7  8  9]\n",
      " [10 11 12 13 14 15 16 17 18 19]\n",
      " [20 21 22 23 24 25 26 27 28 29]\n",
      " [30 31 32 33 34 35 36 37 38 39]] \n",
      "\n",
      "Output:\n"
     ]
    },
    {
     "data": {
      "text/plain": [
       "array([[ 5.5,  6.5,  7.5,  8.5,  9.5, 10.5, 11.5, 12.5, 13.5],\n",
       "       [15.5, 16.5, 17.5, 18.5, 19.5, 20.5, 21.5, 22.5, 23.5],\n",
       "       [25.5, 26.5, 27.5, 28.5, 29.5, 30.5, 31.5, 32.5, 33.5]])"
      ]
     },
     "execution_count": 171,
     "metadata": {},
     "output_type": "execute_result"
    }
   ],
   "source": [
    "n, m = 4, 10\n",
    "a = np.arange(n * m).reshape(n, m)\n",
    "print(\"Input:\\n\", a, \"\\n\\nOutput:\")\n",
    "(a[:-1, :-1] + a[:-1, 1:] + a[1:, :-1] + a[1:, 1:]) / 4"
   ]
  },
  {
   "cell_type": "code",
   "execution_count": null,
   "id": "c2055f1e-9c01-422a-adce-081cea276211",
   "metadata": {},
   "outputs": [],
   "source": []
  }
 ],
 "metadata": {
  "kernelspec": {
   "display_name": "Python [conda env:base] *",
   "language": "python",
   "name": "conda-base-py"
  },
  "language_info": {
   "codemirror_mode": {
    "name": "ipython",
    "version": 3
   },
   "file_extension": ".py",
   "mimetype": "text/x-python",
   "name": "python",
   "nbconvert_exporter": "python",
   "pygments_lexer": "ipython3",
   "version": "3.13.5"
  }
 },
 "nbformat": 4,
 "nbformat_minor": 5
}
